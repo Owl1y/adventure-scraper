{
 "cells": [
  {
   "cell_type": "code",
   "execution_count": 1,
   "metadata": {},
   "outputs": [],
   "source": [
    "from bs4 import BeautifulSoup\n",
    "import re\n",
    "import requests\n"
   ]
  },
  {
   "cell_type": "code",
   "execution_count": 21,
   "metadata": {},
   "outputs": [
    {
     "name": "stdout",
     "output_type": "stream",
     "text": [
      "['/event/500554', '/event/507742', '/event/577468', '/event/503544', '/event/499672', '/event/100221', '/event/500550', '/event/500551', '/event/577507', '/event/563493', '/event/553312', '/event/577528', '/event/500382', '/event/500487', '/event/551479', '/event/577531', '/event/100206', '/event/571601', '/event/542746', '/event/501271', '/event/577534', '/event/577539', '/event/578547', '/event/503540', '/event/552629', '/event/500557', '/event/534830', '/event/500009', '/event/500477', '/event/499732', '/event/578551', '/event/578552']\n",
      "32\n"
     ]
    }
   ],
   "source": [
    "main_page = \"https://www.csusb.edu/recreation-wellness/adventure/trips/all-trips-date\"\n",
    "base_url = \"\"\n",
    "\n",
    "response = requests.get(main_page)\n",
    "\n",
    "soup = BeautifulSoup(response.text, 'html.parser')\n",
    "\n",
    "html = soup.prettify()\n",
    "\n",
    "list_of_href = soup.find_all('a', href=True)\n",
    "\n",
    "#print(list_of_href)\n",
    "\n",
    "pattern = re.compile(r'\\/event\\/\\d{6}')\n",
    "\n",
    "\n",
    "href_trips = []\n",
    "\n",
    "for i in list_of_href:\n",
    "\n",
    "    match = re.search(pattern, str(i))\n",
    "    if match:\n",
    "        href_trips.append(match.group())\n",
    "\n",
    "print(href_trips)\n",
    "print(len(href_trips))\n",
    "\n",
    "\n"
   ]
  }
 ],
 "metadata": {
  "kernelspec": {
   "display_name": "Python 3",
   "language": "python",
   "name": "python3"
  },
  "language_info": {
   "codemirror_mode": {
    "name": "ipython",
    "version": 3
   },
   "file_extension": ".py",
   "mimetype": "text/x-python",
   "name": "python",
   "nbconvert_exporter": "python",
   "pygments_lexer": "ipython3",
   "version": "3.10.12"
  }
 },
 "nbformat": 4,
 "nbformat_minor": 2
}
