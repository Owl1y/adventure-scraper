{
 "cells": [
  {
   "cell_type": "code",
   "execution_count": 1,
   "metadata": {},
   "outputs": [],
   "source": [
    "from bs4 import BeautifulSoup\n",
    "import re\n",
    "import requests\n"
   ]
  },
  {
   "cell_type": "code",
   "execution_count": 23,
   "metadata": {},
   "outputs": [
    {
     "name": "stdout",
     "output_type": "stream",
     "text": [
      "38\n"
     ]
    }
   ],
   "source": [
    "main_page = \"https://www.csusb.edu/recreation-wellness/adventure/trips/all-trips-date\"\n",
    "base_url = \"https://www.csusb.edu\"\n",
    "\n",
    "response = requests.get(main_page)\n",
    "soup = BeautifulSoup(response.text, 'html.parser')\n",
    "html = soup.prettify()\n",
    "\n",
    "list_of_href = soup.find_all('a', href=True)\n",
    "\n",
    "\n",
    "\n",
    "pattern = re.compile(r'\\/event\\/\\d{5,6}')\n",
    "\n",
    "#print(list_of_href)\n",
    "\n",
    "href_trips = []\n",
    "\n",
    "for i in list_of_href:\n",
    "\n",
    "    match = re.search(pattern, str(i))\n",
    "    if match:\n",
    "        href_trips.append(match.group())\n",
    "\n",
    "#print(href_trips)\n",
    "#print(len(href_trips))\n",
    "\n",
    "\n"
   ]
  },
  {
   "cell_type": "code",
   "execution_count": null,
   "metadata": {},
   "outputs": [],
   "source": [
    "sign_up_button = []\n",
    "for page in href_trips:\n",
    "    trip = requests.get(base_url + page)\n",
    "    trip_soup = BeautifulSoup(trip.text, 'html.parser')\n",
    "    \n",
    "    trip_date = trip_soup.find('div', class_=\"event--date\").text\n",
    "    trip_name = trip_soup.find('h2', class_=\"event--title\").text\n",
    "\n",
    "    fusion_button = trip_soup.find('a', class_=\"btn btn-primary btn-solid\")\n",
    "    \n",
    "    #print(type(fusion_button))\n",
    "\n",
    "    if (fusion_button is not None):\n",
    "        #print(\"none type\")\n",
    "        sign_up_button.append(fusion_button.get('href'))\n",
    " \n",
    "    \n",
    "\n",
    "\n",
    "\n",
    "sign_up_button = [j for j in sign_up_button if len(j) == 145]\n",
    "\n",
    "for spots in sign_up_button:\n",
    "    trip_spots = requests.get(spots)\n",
    "    fusions_page = BeautifulSoup(trip_spots.text, 'html.parser')\n",
    "\n",
    "   \n",
    "    \n",
    "    if  fusions_page.find('p', class_=\"car-text\") == None:\n",
    "        spots_left = \"0 spot(s)\"\n",
    "    else:\n",
    "        spots_left = fusions_page.find('p', class_=\"car-text\").text\n",
    "\n",
    "    print(spots_left)\n",
    "\n",
    "\n",
    "\n",
    "    "
   ]
  },
  {
   "cell_type": "code",
   "execution_count": 55,
   "metadata": {},
   "outputs": [],
   "source": [
    "sign_up_button = []\n",
    "\n",
    "scraped_data = []\n",
    "\n",
    "for page in href_trips:\n",
    "    trip = requests.get(base_url + page)\n",
    "    trip_soup = BeautifulSoup(trip.text, 'html.parser')\n",
    "    \n",
    "    trip_date = trip_soup.find('div', class_=\"event--date\").text\n",
    "    trip_name = trip_soup.find('h2', class_=\"event--title\").text\n",
    "\n",
    "    fusion_button = trip_soup.find('a', class_=\"btn btn-primary btn-solid\")\n",
    "    \n",
    "    if (fusion_button is not None) and (len(fusion_button.get('href')) == 145):\n",
    "        trip_spots = requests.get(fusion_button.get('href'))\n",
    "        fusions_page = BeautifulSoup(trip_spots.text, 'html.parser')\n",
    "        \n",
    "        if fusions_page.find('p', class_=\"car-text\") is None:\n",
    "            spots_left = \"0 spot(s)\"\n",
    "        else:\n",
    "            spots_left = fusions_page.find('p', class_=\"car-text\").text\n",
    "        \n",
    "    scraped_data.append([trip_name, trip_date, spots_left])\n"
   ]
  },
  {
   "cell_type": "code",
   "execution_count": 56,
   "metadata": {},
   "outputs": [
    {
     "name": "stdout",
     "output_type": "stream",
     "text": [
      "[['Deep Creek Hot Springs Hike - SBC', ' March 9, 2024', '0 spot(s)'], ['New Jack City Rock Climb - SBC', ' March 9, 2024', '0 spot(s)'], ['California Science Center and Natural History Museum- SBC', ' March 10, 2024', '0 spot(s)'], ['Morro Bay Camp and Kayak - SBC', ' March 15, 2024 - March 17, 2024', '2 spot(s) available'], ['Queer Skies Ahead Hiking Trip - SBC', ' March 15, 2024', '0 spot(s)'], ['Stand Up Paddle Board - SBC', ' March 23, 2024', '6 spot(s) available'], ['Upper Newport Bay Kayak - SBC', ' March 24, 2024', '7 spot(s) available'], ['Catalina Island Service Adventure - SBC', ' April 1, 2024 - April 5, 2024', '5 spot(s) available'], ['Zion Camp and Explore - SBC', ' April 1, 2024 - April 5, 2024', '0 spot(s)'], ['Six Flags Magic Mountain - SBC', ' April 7, 2024', '1 spot(s) available'], ['Santa Cruz Island Backpack - SBC', ' April 12, 2024 - April 14, 2024', '1 spot(s) available'], ['La Jolla Snorkel and Hike - SBC', ' April 13, 2024', '8 spot(s) available'], ['Big Bear Service and Hike - SBC', ' April 14, 2024', '8 spot(s) available'], ['SAIL Program - La Jolla Snorkel and Hike ', ' April 19, 2024', '6 spot(s) available'], ['Yosemite Camp and Explore - SBC', ' April 19, 2024 - April 21, 2024', '6 spot(s) available'], ['San Clemente Beach Camp and Explore - SBC', ' April 20, 2024 - April 21, 2024', '7 spot(s) available'], ['Kings River Whitewater Raft and Camp - SBC', ' April 27, 2024 - April 28, 2024', '4 spot(s) available'], ['Academy Museum\\xa0and Farmers Market - SBC', ' April 27, 2024', '10 spot(s) available'], ['Tahquitz Peak Hike - PDC', ' April 28, 2024', '9 spot(s) available'], ['Zion Camp and Explore - SBC', ' May 3, 2024 - May 5, 2024', '0 spot(s)'], ['La Jolla Snorkel and Hike - SBC', ' May 4, 2024', '8 spot(s) available'], ['SAIL Program - Outrigger Paddle Newport Beach', ' May 4, 2024', '17 spot(s) available'], ['SoCal Surf - SBC', ' May 5, 2024', '9 spot(s) available'], ['Bungee Jump ', ' May 11, 2024', '10 spot(s) available'], ['Getty Villa Museum - SBC', ' May 19, 2024', '10 spot(s) available'], ['Indoor Skydiving - SBC', ' May 22, 2024', '10 spot(s) available'], ['Pine Ridge Service-Learning - SBC and PDC', ' May 23, 2024 - June 2, 2024', '10 spot(s) available'], ['Full Moon Hike - SBC', ' May 23, 2024', '9 spot(s) available'], ['Big Sur Camp and Explore - SBC', ' May 24, 2024 - May 27, 2024', '9 spot(s) available'], ['Sedona Cabin and Explore - SBC and PDC', ' May 30, 2024 - June 2, 2024', '4 spot(s) available'], ['Huntington Library and Gardens - SBC', ' June 6, 2024', '10 spot(s) available'], ['San Francisco Urban Adventure - SBC', ' June 9, 2024 - June 12, 2024', '9 spot(s) available'], ['American River Raft and Camp - SBC and PDC', ' June 14, 2024 - June 16, 2024', '10 spot(s) available'], ['Lost Coast Backpack - SBC', ' June 23, 2024 - June 28, 2024', '10 spot(s) available'], ['Mt Baldy Hike - SBC', ' June 23, 2024', '10 spot(s) available'], ['Strange Loop Musical - SBC', ' June 28, 2024', '10 spot(s) available'], ['La Jolla Snorkel and Hike - SBC', ' June 29, 2024', '9 spot(s) available'], ['Adventure Welcome Experience - Yosemite Backpack - SBC', ' August 11, 2024 - August 14, 2024', '9 spot(s) available']]\n"
     ]
    }
   ],
   "source": [
    "print(scraped_data)\n"
   ]
  }
 ],
 "metadata": {
  "kernelspec": {
   "display_name": "Python 3",
   "language": "python",
   "name": "python3"
  },
  "language_info": {
   "codemirror_mode": {
    "name": "ipython",
    "version": 3
   },
   "file_extension": ".py",
   "mimetype": "text/x-python",
   "name": "python",
   "nbconvert_exporter": "python",
   "pygments_lexer": "ipython3",
   "version": "3.10.12"
  }
 },
 "nbformat": 4,
 "nbformat_minor": 2
}
