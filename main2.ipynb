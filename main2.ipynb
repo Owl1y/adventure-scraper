{
 "cells": [
  {
   "cell_type": "code",
   "execution_count": 57,
   "metadata": {},
   "outputs": [],
   "source": [
    "from bs4 import BeautifulSoup\n",
    "import re\n",
    "import requests\n",
    "from tabulate import tabulate\n",
    "\n"
   ]
  },
  {
   "cell_type": "code",
   "execution_count": 23,
   "metadata": {},
   "outputs": [
    {
     "name": "stdout",
     "output_type": "stream",
     "text": [
      "38\n"
     ]
    }
   ],
   "source": [
    "main_page = \"https://www.csusb.edu/recreation-wellness/adventure/trips/all-trips-date\"\n",
    "base_url = \"https://www.csusb.edu\"\n",
    "\n",
    "response = requests.get(main_page)\n",
    "soup = BeautifulSoup(response.text, 'html.parser')\n",
    "html = soup.prettify()\n",
    "\n",
    "list_of_href = soup.find_all('a', href=True)\n",
    "\n",
    "pattern = re.compile(r'\\/event\\/\\d{5,6}')\n",
    "\n",
    "href_trips = []\n",
    "\n",
    "for i in list_of_href:\n",
    "\n",
    "    match = re.search(pattern, str(i))\n",
    "    if match:\n",
    "        href_trips.append(match.group())\n",
    "\n"
   ]
  },
  {
   "cell_type": "code",
   "execution_count": 64,
   "metadata": {},
   "outputs": [],
   "source": [
    "sign_up_button = []\n",
    "\n",
    "scraped_data = [[\"Trip Name\", \"Trip Date\", \"Spots left\"]]\n",
    "\n",
    "for page in href_trips:\n",
    "    trip = requests.get(base_url + page)\n",
    "    trip_soup = BeautifulSoup(trip.text, 'html.parser')\n",
    "    \n",
    "    trip_date = trip_soup.find('div', class_=\"event--date\").text\n",
    "    trip_name = trip_soup.find('h2', class_=\"event--title\").text\n",
    "\n",
    "    fusion_button = trip_soup.find('a', class_=\"btn btn-primary btn-solid\")\n",
    "    \n",
    "    if (fusion_button is not None) and (len(fusion_button.get('href')) == 145):\n",
    "        trip_spots = requests.get(fusion_button.get('href'))\n",
    "        fusions_page = BeautifulSoup(trip_spots.text, 'html.parser')\n",
    "        \n",
    "        if fusions_page.find('p', class_=\"car-text\") is None:\n",
    "            spots_left = \"0 spot(s)\"\n",
    "        else:\n",
    "            spots_left = fusions_page.find('p', class_=\"car-text\").text[:-9]\n",
    "        \n",
    "    scraped_data.append([trip_name, trip_date, spots_left])\n"
   ]
  },
  {
   "cell_type": "code",
   "execution_count": 65,
   "metadata": {},
   "outputs": [
    {
     "name": "stdout",
     "output_type": "stream",
     "text": [
      "+-----------------------------------------------------------+-----------------------------------+--------------+\n",
      "| Trip Name                                                 | Trip Date                         | Spots left   |\n",
      "+===========================================================+===================================+==============+\n",
      "| Deep Creek Hot Springs Hike - SBC                         | March 9, 2024                     | 0 spot(s)    |\n",
      "+-----------------------------------------------------------+-----------------------------------+--------------+\n",
      "| New Jack City Rock Climb - SBC                            | March 9, 2024                     | 0 spot(s)    |\n",
      "+-----------------------------------------------------------+-----------------------------------+--------------+\n",
      "| California Science Center and Natural History Museum- SBC | March 10, 2024                    | 0 spot(s)    |\n",
      "+-----------------------------------------------------------+-----------------------------------+--------------+\n",
      "| Morro Bay Camp and Kayak - SBC                            | March 15, 2024 - March 17, 2024   | 2 spot(s)    |\n",
      "+-----------------------------------------------------------+-----------------------------------+--------------+\n",
      "| Queer Skies Ahead Hiking Trip - SBC                       | March 15, 2024                    | 0 spot(s)    |\n",
      "+-----------------------------------------------------------+-----------------------------------+--------------+\n",
      "| Stand Up Paddle Board - SBC                               | March 23, 2024                    | 6 spot(s)    |\n",
      "+-----------------------------------------------------------+-----------------------------------+--------------+\n",
      "| Upper Newport Bay Kayak - SBC                             | March 24, 2024                    | 7 spot(s)    |\n",
      "+-----------------------------------------------------------+-----------------------------------+--------------+\n",
      "| Catalina Island Service Adventure - SBC                   | April 1, 2024 - April 5, 2024     | 5 spot(s)    |\n",
      "+-----------------------------------------------------------+-----------------------------------+--------------+\n",
      "| Zion Camp and Explore - SBC                               | April 1, 2024 - April 5, 2024     | 0 spot(s)    |\n",
      "+-----------------------------------------------------------+-----------------------------------+--------------+\n",
      "| Six Flags Magic Mountain - SBC                            | April 7, 2024                     | 1 spot(s)    |\n",
      "+-----------------------------------------------------------+-----------------------------------+--------------+\n",
      "| Santa Cruz Island Backpack - SBC                          | April 12, 2024 - April 14, 2024   | 1 spot(s)    |\n",
      "+-----------------------------------------------------------+-----------------------------------+--------------+\n",
      "| La Jolla Snorkel and Hike - SBC                           | April 13, 2024                    | 8 spot(s)    |\n",
      "+-----------------------------------------------------------+-----------------------------------+--------------+\n",
      "| Big Bear Service and Hike - SBC                           | April 14, 2024                    | 8 spot(s)    |\n",
      "+-----------------------------------------------------------+-----------------------------------+--------------+\n",
      "| SAIL Program - La Jolla Snorkel and Hike                  | April 19, 2024                    | 6 spot(s)    |\n",
      "+-----------------------------------------------------------+-----------------------------------+--------------+\n",
      "| Yosemite Camp and Explore - SBC                           | April 19, 2024 - April 21, 2024   | 6 spot(s)    |\n",
      "+-----------------------------------------------------------+-----------------------------------+--------------+\n",
      "| San Clemente Beach Camp and Explore - SBC                 | April 20, 2024 - April 21, 2024   | 7 spot(s)    |\n",
      "+-----------------------------------------------------------+-----------------------------------+--------------+\n",
      "| Kings River Whitewater Raft and Camp - SBC                | April 27, 2024 - April 28, 2024   | 4 spot(s)    |\n",
      "+-----------------------------------------------------------+-----------------------------------+--------------+\n",
      "| Academy Museum and Farmers Market - SBC                   | April 27, 2024                    | 10 spot(s)   |\n",
      "+-----------------------------------------------------------+-----------------------------------+--------------+\n",
      "| Tahquitz Peak Hike - PDC                                  | April 28, 2024                    | 9 spot(s)    |\n",
      "+-----------------------------------------------------------+-----------------------------------+--------------+\n",
      "| Zion Camp and Explore - SBC                               | May 3, 2024 - May 5, 2024         | 0 spot(s)    |\n",
      "+-----------------------------------------------------------+-----------------------------------+--------------+\n",
      "| La Jolla Snorkel and Hike - SBC                           | May 4, 2024                       | 8 spot(s)    |\n",
      "+-----------------------------------------------------------+-----------------------------------+--------------+\n",
      "| SAIL Program - Outrigger Paddle Newport Beach             | May 4, 2024                       | 17 spot(s)   |\n",
      "+-----------------------------------------------------------+-----------------------------------+--------------+\n",
      "| SoCal Surf - SBC                                          | May 5, 2024                       | 9 spot(s)    |\n",
      "+-----------------------------------------------------------+-----------------------------------+--------------+\n",
      "| Bungee Jump                                               | May 11, 2024                      | 10 spot(s)   |\n",
      "+-----------------------------------------------------------+-----------------------------------+--------------+\n",
      "| Getty Villa Museum - SBC                                  | May 19, 2024                      | 10 spot(s)   |\n",
      "+-----------------------------------------------------------+-----------------------------------+--------------+\n",
      "| Indoor Skydiving - SBC                                    | May 22, 2024                      | 10 spot(s)   |\n",
      "+-----------------------------------------------------------+-----------------------------------+--------------+\n",
      "| Pine Ridge Service-Learning - SBC and PDC                 | May 23, 2024 - June 2, 2024       | 10 spot(s)   |\n",
      "+-----------------------------------------------------------+-----------------------------------+--------------+\n",
      "| Full Moon Hike - SBC                                      | May 23, 2024                      | 9 spot(s)    |\n",
      "+-----------------------------------------------------------+-----------------------------------+--------------+\n",
      "| Big Sur Camp and Explore - SBC                            | May 24, 2024 - May 27, 2024       | 9 spot(s)    |\n",
      "+-----------------------------------------------------------+-----------------------------------+--------------+\n",
      "| Sedona Cabin and Explore - SBC and PDC                    | May 30, 2024 - June 2, 2024       | 4 spot(s)    |\n",
      "+-----------------------------------------------------------+-----------------------------------+--------------+\n",
      "| Huntington Library and Gardens - SBC                      | June 6, 2024                      | 10 spot(s)   |\n",
      "+-----------------------------------------------------------+-----------------------------------+--------------+\n",
      "| San Francisco Urban Adventure - SBC                       | June 9, 2024 - June 12, 2024      | 9 spot(s)    |\n",
      "+-----------------------------------------------------------+-----------------------------------+--------------+\n",
      "| American River Raft and Camp - SBC and PDC                | June 14, 2024 - June 16, 2024     | 10 spot(s)   |\n",
      "+-----------------------------------------------------------+-----------------------------------+--------------+\n",
      "| Lost Coast Backpack - SBC                                 | June 23, 2024 - June 28, 2024     | 10 spot(s)   |\n",
      "+-----------------------------------------------------------+-----------------------------------+--------------+\n",
      "| Mt Baldy Hike - SBC                                       | June 23, 2024                     | 10 spot(s)   |\n",
      "+-----------------------------------------------------------+-----------------------------------+--------------+\n",
      "| Strange Loop Musical - SBC                                | June 28, 2024                     | 10 spot(s)   |\n",
      "+-----------------------------------------------------------+-----------------------------------+--------------+\n",
      "| La Jolla Snorkel and Hike - SBC                           | June 29, 2024                     | 9 spot(s)    |\n",
      "+-----------------------------------------------------------+-----------------------------------+--------------+\n",
      "| Adventure Welcome Experience - Yosemite Backpack - SBC    | August 11, 2024 - August 14, 2024 | 9 spot(s)    |\n",
      "+-----------------------------------------------------------+-----------------------------------+--------------+\n"
     ]
    }
   ],
   "source": [
    "table = tabulate(scraped_data, headers=\"firstrow\", tablefmt=\"grid\")\n",
    "print(table)"
   ]
  }
 ],
 "metadata": {
  "kernelspec": {
   "display_name": "Python 3",
   "language": "python",
   "name": "python3"
  },
  "language_info": {
   "codemirror_mode": {
    "name": "ipython",
    "version": 3
   },
   "file_extension": ".py",
   "mimetype": "text/x-python",
   "name": "python",
   "nbconvert_exporter": "python",
   "pygments_lexer": "ipython3",
   "version": "3.10.12"
  }
 },
 "nbformat": 4,
 "nbformat_minor": 2
}
