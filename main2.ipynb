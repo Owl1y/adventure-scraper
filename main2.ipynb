{
 "cells": [
  {
   "cell_type": "code",
   "execution_count": 1,
   "metadata": {},
   "outputs": [],
   "source": [
    "from bs4 import BeautifulSoup\n",
    "import re\n",
    "import requests\n"
   ]
  },
  {
   "cell_type": "code",
   "execution_count": 23,
   "metadata": {},
   "outputs": [
    {
     "name": "stdout",
     "output_type": "stream",
     "text": [
      "38\n"
     ]
    }
   ],
   "source": [
    "main_page = \"https://www.csusb.edu/recreation-wellness/adventure/trips/all-trips-date\"\n",
    "base_url = \"https://www.csusb.edu\"\n",
    "\n",
    "response = requests.get(main_page)\n",
    "soup = BeautifulSoup(response.text, 'html.parser')\n",
    "html = soup.prettify()\n",
    "\n",
    "list_of_href = soup.find_all('a', href=True)\n",
    "\n",
    "\n",
    "\n",
    "pattern = re.compile(r'\\/event\\/\\d{5,6}')\n",
    "\n",
    "#print(list_of_href)\n",
    "\n",
    "href_trips = []\n",
    "\n",
    "for i in list_of_href:\n",
    "\n",
    "    match = re.search(pattern, str(i))\n",
    "    if match:\n",
    "        href_trips.append(match.group())\n",
    "\n",
    "#print(href_trips)\n",
    "#print(len(href_trips))\n",
    "\n",
    "\n"
   ]
  },
  {
   "cell_type": "code",
   "execution_count": 48,
   "metadata": {},
   "outputs": [
    {
     "name": "stdout",
     "output_type": "stream",
     "text": [
      "['https://recshop.csusb.edu/Program/GetProgramDetails?courseId=836b8cb2-a9be-48bd-bb6a-79d625866e5b&semesterId=f135e22f-bd6e-4119-9e20-a40e843db0d1', 'https://recshop.csusb.edu/Program/GetProgramDetails?courseId=324d3ada-c621-43ba-968f-ad312a3fdb9a&semesterId=f135e22f-bd6e-4119-9e20-a40e843db0d1', 'https://recshop.csusb.edu/Program/GetProgramDetails?courseId=8999268f-1ba5-4718-888f-ea9ce8351030&semesterId=f135e22f-bd6e-4119-9e20-a40e843db0d1', 'https://recshop.csusb.edu/Program/GetProgramDetails?courseId=943dca0f-f466-4150-bfda-9cbbc64ae067&semesterId=f135e22f-bd6e-4119-9e20-a40e843db0d1', 'https://recshop.csusb.edu/Program/GetProgramDetails?courseId=15b08a52-fb4f-41f2-9a36-77a642ee2487&semesterId=f135e22f-bd6e-4119-9e20-a40e843db0d1', 'https://recshop.csusb.edu/Program/GetProgramDetails?courseId=6682cfa5-add8-4fbd-805b-0266e355281f&semesterId=f135e22f-bd6e-4119-9e20-a40e843db0d1', 'https://recshop.csusb.edu/Program/GetProgramDetails?courseId=91306d2c-3dde-454a-bbb9-9515fad8c51d&semesterId=f135e22f-bd6e-4119-9e20-a40e843db0d1', 'https://recshop.csusb.edu/Program/GetProgramDetails?courseId=ec141018-099c-4371-b31e-ad14263f8968&semesterId=f135e22f-bd6e-4119-9e20-a40e843db0d1', 'https://recshop.csusb.edu/Program/GetProgramDetails?courseId=918f758f-6553-4218-a6fe-fbf78632e5ca&semesterId=f135e22f-bd6e-4119-9e20-a40e843db0d1', 'https://recshop.csusb.edu/Program/GetProgramDetails?courseId=83ab974a-a8ad-44df-acf6-386ecb672213&semesterId=f135e22f-bd6e-4119-9e20-a40e843db0d1', 'https://recshop.csusb.edu/Program/GetProgramDetails?courseId=8dda2462-7450-4722-a8d3-3281d45292e6&semesterId=f135e22f-bd6e-4119-9e20-a40e843db0d1', 'https://recshop.csusb.edu/Program/GetProgramDetails?courseId=10bf1e00-2c89-471b-8373-05374b04e99b&semesterId=f135e22f-bd6e-4119-9e20-a40e843db0d1', 'https://recshop.csusb.edu/Program/GetProgramDetails?courseId=8f9f92f5-c9be-48c3-a543-ad2d54f607b8&semesterId=f135e22f-bd6e-4119-9e20-a40e843db0d1', 'https://recshop.csusb.edu/Program/GetProgramDetails?courseId=0bf204ae-1cbf-4587-a6c5-0130cd631fb3&semesterId=f135e22f-bd6e-4119-9e20-a40e843db0d1', 'https://recshop.csusb.edu/', 'https://recshop.csusb.edu/Program/GetProgramDetails?courseId=54d62972-c7bb-4097-9675-302d6a501d9c&semesterId=f135e22f-bd6e-4119-9e20-a40e843db0d1', 'https://recshop.csusb.edu/Program/GetProgramDetails?courseId=4e88fc1f-95e6-475f-8a14-c1c7cbe266ac&semesterId=f135e22f-bd6e-4119-9e20-a40e843db0d1', 'https://recshop.csusb.edu/Program/GetProgramDetails?courseId=8ed706e2-a900-4d35-8651-8513f4b427c3&semesterId=f135e22f-bd6e-4119-9e20-a40e843db0d1', 'https://recshop.csusb.edu/Program/GetProgramDetails?courseId=1d391e04-ef7b-45bd-abde-c2ed491e29fa&semesterId=f135e22f-bd6e-4119-9e20-a40e843db0d1', 'https://recshop.csusb.edu/Program/GetProgramDetails?courseId=10c39ee3-1a98-4512-b654-c062fb1f6b12&semesterId=f135e22f-bd6e-4119-9e20-a40e843db0d1', 'https://recshop.csusb.edu/Program/GetProgramDetails?courseId=10bf1e00-2c89-471b-8373-05374b04e99b&semesterId=f135e22f-bd6e-4119-9e20-a40e843db0d1', 'https://recshop.csusb.edu/Program/GetProgramDetails?courseId=6cab2498-93a5-4aae-889c-88a94319035f&semesterId=f135e22f-bd6e-4119-9e20-a40e843db0d1', 'https://recshop.csusb.edu/Program/GetProgramDetails?courseId=d0c62573-98e6-4a7a-b48c-74d00967d13c&semesterId=f135e22f-bd6e-4119-9e20-a40e843db0d1', 'https://recshop.csusb.edu/Program/GetProgramDetails?courseId=4f69fc74-0ea0-4567-beb0-c78a485c6868&semesterId=f135e22f-bd6e-4119-9e20-a40e843db0d1', 'https://recshop.csusb.edu/Program/GetProgramDetails?courseId=1c04357c-3d83-4681-99b7-e65a1dddb0a5&semesterId=f135e22f-bd6e-4119-9e20-a40e843db0d1', 'https://recshop.csusb.edu/Program/GetProgramDetails?courseId=2987bdf9-6aaa-4ec8-8345-8be80503d003&semesterId=66592d86-e351-4277-8a13-05ef06eec7e7', 'https://recshop.csusb.edu/Program/GetProgramDetails?courseId=b3d0a8ec-e96b-419c-ab7e-5d7197d392b7&semesterId=66592d86-e351-4277-8a13-05ef06eec7e7', 'https://recshop.csusb.edu/Program/GetProgramDetails?courseId=c1b575bc-d9a3-4fac-8836-65d0fccf6f0d&semesterId=66592d86-e351-4277-8a13-05ef06eec7e7', 'https://recshop.csusb.edu/Program/GetProgramDetails?courseId=dd66c21c-297d-4dbe-a07d-3e4465f5c418&semesterId=66592d86-e351-4277-8a13-05ef06eec7e7', 'https://recshop.csusb.edu/Program/GetProgramDetails?courseId=511352b3-b52c-4617-ab35-5367fe8d8498&semesterId=66592d86-e351-4277-8a13-05ef06eec7e7', 'https://recshop.csusb.edu/Program/GetProgramDetails?courseId=22613b04-11fc-4d24-9750-981e6a76bd76&semesterId=66592d86-e351-4277-8a13-05ef06eec7e7', 'https://recshop.csusb.edu/Program/GetProgramDetails?courseId=08072211-223d-42d7-8cd5-33a3614f6b84&semesterId=66592d86-e351-4277-8a13-05ef06eec7e7', 'https://recshop.csusb.edu/Program/GetProgramDetails?courseId=e5b80373-d8b3-4e80-ad11-becfa08f909d&semesterId=66592d86-e351-4277-8a13-05ef06eec7e7', 'https://recshop.csusb.edu/Program/GetProgramDetails?courseId=08072211-223d-42d7-8cd5-33a3614f6b84&semesterId=66592d86-e351-4277-8a13-05ef06eec7e7', 'https://recshop.csusb.edu/Program/GetProgramDetails?courseId=2719cf80-3608-4e5e-b1f5-c1e2d3cd2bd8&semesterId=66592d86-e351-4277-8a13-05ef06eec7e7', 'https://recshop.csusb.edu/Program/GetProgramDetails?courseId=10bf1e00-2c89-471b-8373-05374b04e99b&semesterId=66592d86-e351-4277-8a13-05ef06eec7e7']\n",
      "145\n",
      "145\n",
      "145\n",
      "145\n",
      "145\n",
      "145\n",
      "145\n",
      "145\n",
      "145\n",
      "145\n",
      "145\n",
      "145\n",
      "145\n",
      "145\n",
      "26\n",
      "145\n",
      "145\n",
      "145\n",
      "145\n",
      "145\n",
      "145\n",
      "145\n",
      "145\n",
      "145\n",
      "145\n",
      "145\n",
      "145\n",
      "145\n",
      "145\n",
      "145\n",
      "145\n",
      "145\n",
      "145\n",
      "145\n",
      "145\n",
      "145\n"
     ]
    }
   ],
   "source": [
    "sign_up_button = []\n",
    "for page in href_trips:\n",
    "    trip = requests.get(base_url + page)\n",
    "    trip_soup = BeautifulSoup(trip.text, 'html.parser')\n",
    "    \n",
    "    trip_date = trip_soup.find('div', class_=\"event--date\").text\n",
    "    trip_name = trip_soup.find('h2', class_=\"event--title\").text\n",
    "\n",
    "    fusion_button = trip_soup.find('a', class_=\"btn btn-primary btn-solid\")\n",
    "    \n",
    "    #print(type(fusion_button))\n",
    "\n",
    "    if (fusion_button is not None):\n",
    "        #print(\"none type\")\n",
    "        sign_up_button.append(fusion_button.get('href'))\n",
    " \n",
    "\n",
    "print(sign_up_button)\n",
    "for i in sign_up_button:\n",
    "    print(len(i))\n",
    "\n",
    "    "
   ]
  }
 ],
 "metadata": {
  "kernelspec": {
   "display_name": "Python 3",
   "language": "python",
   "name": "python3"
  },
  "language_info": {
   "codemirror_mode": {
    "name": "ipython",
    "version": 3
   },
   "file_extension": ".py",
   "mimetype": "text/x-python",
   "name": "python",
   "nbconvert_exporter": "python",
   "pygments_lexer": "ipython3",
   "version": "3.10.12"
  }
 },
 "nbformat": 4,
 "nbformat_minor": 2
}
