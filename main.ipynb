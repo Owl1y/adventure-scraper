{
 "cells": [
  {
   "cell_type": "code",
   "execution_count": 19,
   "metadata": {},
   "outputs": [
    {
     "name": "stdout",
     "output_type": "stream",
     "text": [
      "<a class=\"list-group-item list-group-item-action\" data-toggle=\"\" id=\"aDetailsList_e8a76094-a1e8-4b4c-a38f-404ae6b04722\" role=\"button\" style=\"cursor: pointer\" tabindex=\"0\">\n",
      " <div class=\"d-flex justify-content-start\">\n",
      "  <div class=\"paddingGridImage pr-3 flex-shrink-0\" data-id=\"e8a76094-a1e8-4b4c-a38f-404ae6b04722\">\n",
      "   <img alt=\"Adventure Leadership Program Application\" class=\"\" src=\"/Content/Images/ajax-loader.gif\"/>\n",
      "  </div>\n",
      "  <div>\n",
      "   <div>\n",
      "    <h3 class=\"TitleText-SP\">\n",
      "     Adventure Leadership Program Application\n",
      "    </h3>\n",
      "   </div>\n",
      "  </div>\n",
      "  <div class=\"d-flex flex-column text-right ml-auto\">\n",
      "   <div class=\"PriceText\">\n",
      "    <div class=\"pricePlaceholder\" data-id=\"e8a76094-a1e8-4b4c-a38f-404ae6b04722\">\n",
      "     $0.00\n",
      "    </div>\n",
      "   </div>\n",
      "   <div>\n",
      "   </div>\n",
      "   <div>\n",
      "   </div>\n",
      "   <div>\n",
      "   </div>\n",
      "  </div>\n",
      " </div>\n",
      "</a>\n",
      "\n"
     ]
    }
   ],
   "source": [
    "# Importing necessary libraries\n",
    "from bs4 import BeautifulSoup\n",
    "import requests\n",
    "\n",
    "url = 'https://recshop.csusb.edu/Program/GetProducts?productTypeCV=00000000-0000-0000-0000-000000003502&classification=7f9e3be9-bc47-443a-86ba-3c7fa4c13bb5'\n",
    "\n",
    "response = requests.get(url)\n",
    "\n",
    "soup = BeautifulSoup(response.text, 'html.parser')\n",
    "\n",
    "\n",
    "elements = soup.find_all('div', class_='event')\n",
    "matching_elements = soup.select('[id^=\"aDetailsList\"]')\n",
    "\n",
    "print(matching_elements[1].prettify())\n",
    "#print(matching_elements.find_all('a'))\n",
    "#print(type(matching_elements))\n",
    "\n",
    "#for links in matching_elements:\n",
    "#    print(matching_elements.find('a'))\n",
    "\n",
    "\n"
   ]
  },
  {
   "cell_type": "code",
   "execution_count": 24,
   "metadata": {},
   "outputs": [
    {
     "ename": "ValueError",
     "evalue": "no URL to submit to",
     "output_type": "error",
     "traceback": [
      "\u001b[0;31m---------------------------------------------------------------------------\u001b[0m",
      "\u001b[0;31mValueError\u001b[0m                                Traceback (most recent call last)",
      "Cell \u001b[0;32mIn[24], line 10\u001b[0m\n\u001b[1;32m      7\u001b[0m elements \u001b[38;5;241m=\u001b[39m page\u001b[38;5;241m.\u001b[39mfind_all(\u001b[38;5;124m'\u001b[39m\u001b[38;5;124mdiv\u001b[39m\u001b[38;5;124m'\u001b[39m, class_\u001b[38;5;241m=\u001b[39m\u001b[38;5;124m'\u001b[39m\u001b[38;5;124mevent\u001b[39m\u001b[38;5;124m'\u001b[39m)\n\u001b[1;32m      8\u001b[0m matching_elements \u001b[38;5;241m=\u001b[39m page\u001b[38;5;241m.\u001b[39mselect(\u001b[38;5;124m'\u001b[39m\u001b[38;5;124m[id^=\u001b[39m\u001b[38;5;124m\"\u001b[39m\u001b[38;5;124maDetailsList\u001b[39m\u001b[38;5;124m\"\u001b[39m\u001b[38;5;124m]\u001b[39m\u001b[38;5;124m'\u001b[39m)\n\u001b[0;32m---> 10\u001b[0m trip_info \u001b[38;5;241m=\u001b[39m \u001b[43mbrowser\u001b[49m\u001b[38;5;241;43m.\u001b[39;49m\u001b[43msubmit\u001b[49m\u001b[43m(\u001b[49m\u001b[43mmatching_elements\u001b[49m\u001b[43m[\u001b[49m\u001b[38;5;241;43m1\u001b[39;49m\u001b[43m]\u001b[49m\u001b[43m,\u001b[49m\u001b[43m \u001b[49m\u001b[43mpage\u001b[49m\u001b[38;5;241;43m.\u001b[39;49m\u001b[43murl\u001b[49m\u001b[43m)\u001b[49m\n\u001b[1;32m     12\u001b[0m \u001b[38;5;28mprint\u001b[39m(trip_info)\n\u001b[1;32m     15\u001b[0m \u001b[38;5;66;03m#print(matching_elements[40].prettify())\u001b[39;00m\n",
      "File \u001b[0;32m~/.local/lib/python3.10/site-packages/mechanicalsoup/browser.py:324\u001b[0m, in \u001b[0;36mBrowser.submit\u001b[0;34m(self, form, url, **kwargs)\u001b[0m\n\u001b[1;32m    322\u001b[0m \u001b[38;5;28;01mif\u001b[39;00m \u001b[38;5;28misinstance\u001b[39m(form, Form):\n\u001b[1;32m    323\u001b[0m     form \u001b[38;5;241m=\u001b[39m form\u001b[38;5;241m.\u001b[39mform\n\u001b[0;32m--> 324\u001b[0m response \u001b[38;5;241m=\u001b[39m \u001b[38;5;28;43mself\u001b[39;49m\u001b[38;5;241;43m.\u001b[39;49m\u001b[43m_request\u001b[49m\u001b[43m(\u001b[49m\u001b[43mform\u001b[49m\u001b[43m,\u001b[49m\u001b[43m \u001b[49m\u001b[43murl\u001b[49m\u001b[43m,\u001b[49m\u001b[43m \u001b[49m\u001b[38;5;241;43m*\u001b[39;49m\u001b[38;5;241;43m*\u001b[39;49m\u001b[43mkwargs\u001b[49m\u001b[43m)\u001b[49m\n\u001b[1;32m    325\u001b[0m Browser\u001b[38;5;241m.\u001b[39madd_soup(response, \u001b[38;5;28mself\u001b[39m\u001b[38;5;241m.\u001b[39msoup_config)\n\u001b[1;32m    326\u001b[0m \u001b[38;5;28;01mreturn\u001b[39;00m response\n",
      "File \u001b[0;32m~/.local/lib/python3.10/site-packages/mechanicalsoup/browser.py:300\u001b[0m, in \u001b[0;36mBrowser._request\u001b[0;34m(self, form, url, **kwargs)\u001b[0m\n\u001b[1;32m    298\u001b[0m \u001b[38;5;28;01mdef\u001b[39;00m \u001b[38;5;21m_request\u001b[39m(\u001b[38;5;28mself\u001b[39m, form, url\u001b[38;5;241m=\u001b[39m\u001b[38;5;28;01mNone\u001b[39;00m, \u001b[38;5;241m*\u001b[39m\u001b[38;5;241m*\u001b[39mkwargs):\n\u001b[1;32m    299\u001b[0m     \u001b[38;5;124;03m\"\"\"Extract input data from the form to pass to a Requests session.\"\"\"\u001b[39;00m\n\u001b[0;32m--> 300\u001b[0m     request_kwargs \u001b[38;5;241m=\u001b[39m \u001b[43mBrowser\u001b[49m\u001b[38;5;241;43m.\u001b[39;49m\u001b[43mget_request_kwargs\u001b[49m\u001b[43m(\u001b[49m\u001b[43mform\u001b[49m\u001b[43m,\u001b[49m\u001b[43m \u001b[49m\u001b[43murl\u001b[49m\u001b[43m,\u001b[49m\u001b[43m \u001b[49m\u001b[38;5;241;43m*\u001b[39;49m\u001b[38;5;241;43m*\u001b[39;49m\u001b[43mkwargs\u001b[49m\u001b[43m)\u001b[49m\n\u001b[1;32m    301\u001b[0m     \u001b[38;5;28;01mreturn\u001b[39;00m \u001b[38;5;28mself\u001b[39m\u001b[38;5;241m.\u001b[39msession\u001b[38;5;241m.\u001b[39mrequest(\u001b[38;5;241m*\u001b[39m\u001b[38;5;241m*\u001b[39mrequest_kwargs)\n",
      "File \u001b[0;32m~/.local/lib/python3.10/site-packages/mechanicalsoup/browser.py:195\u001b[0m, in \u001b[0;36mBrowser.get_request_kwargs\u001b[0;34m(cls, form, url, **kwargs)\u001b[0m\n\u001b[1;32m    193\u001b[0m url \u001b[38;5;241m=\u001b[39m urllib\u001b[38;5;241m.\u001b[39mparse\u001b[38;5;241m.\u001b[39murljoin(url, action)\n\u001b[1;32m    194\u001b[0m \u001b[38;5;28;01mif\u001b[39;00m url \u001b[38;5;129;01mis\u001b[39;00m \u001b[38;5;28;01mNone\u001b[39;00m:  \u001b[38;5;66;03m# This happens when both `action` and `url` are None.\u001b[39;00m\n\u001b[0;32m--> 195\u001b[0m     \u001b[38;5;28;01mraise\u001b[39;00m \u001b[38;5;167;01mValueError\u001b[39;00m(\u001b[38;5;124m'\u001b[39m\u001b[38;5;124mno URL to submit to\u001b[39m\u001b[38;5;124m'\u001b[39m)\n\u001b[1;32m    197\u001b[0m \u001b[38;5;66;03m# read https://www.w3.org/TR/html52/sec-forms.html\u001b[39;00m\n\u001b[1;32m    198\u001b[0m \u001b[38;5;28;01mif\u001b[39;00m method\u001b[38;5;241m.\u001b[39mlower() \u001b[38;5;241m==\u001b[39m \u001b[38;5;124m\"\u001b[39m\u001b[38;5;124mget\u001b[39m\u001b[38;5;124m\"\u001b[39m:\n",
      "\u001b[0;31mValueError\u001b[0m: no URL to submit to"
     ]
    }
   ],
   "source": [
    "import mechanicalsoup\n",
    "\n",
    "browser = mechanicalsoup.Browser()\n",
    "response = browser.get(\"https://recshop.csusb.edu/Program/GetProducts?productTypeCV=00000000-0000-0000-0000-000000003502&classification=7f9e3be9-bc47-443a-86ba-3c7fa4c13bb5\")\n",
    "page = response.soup\n",
    "\n",
    "elements = page.find_all('div', class_='event')\n",
    "matching_elements = page.select('[id^=\"aDetailsList\"]')\n",
    "\n",
    "trip_info = browser.submit(matching_elements[1], page.url)\n",
    "\n",
    "print(trip_info)\n",
    "\n",
    "\n",
    "#print(matching_elements[40].prettify())"
   ]
  }
 ],
 "metadata": {
  "kernelspec": {
   "display_name": "Python 3",
   "language": "python",
   "name": "python3"
  },
  "language_info": {
   "codemirror_mode": {
    "name": "ipython",
    "version": 3
   },
   "file_extension": ".py",
   "mimetype": "text/x-python",
   "name": "python",
   "nbconvert_exporter": "python",
   "pygments_lexer": "ipython3",
   "version": "3.10.12"
  }
 },
 "nbformat": 4,
 "nbformat_minor": 2
}
